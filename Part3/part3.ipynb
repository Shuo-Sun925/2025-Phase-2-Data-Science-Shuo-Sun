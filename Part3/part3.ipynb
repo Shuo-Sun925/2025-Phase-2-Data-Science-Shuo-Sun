{
 "cells": [
  {
   "cell_type": "markdown",
   "id": "2249078461bec40c",
   "metadata": {
    "collapsed": false
   },
   "source": [
    "## Step 0. Folder Structure\n",
    "```\n",
    "3. Deep Learning Project/\n",
    "├── dataset_split/\n",
    "│   ├── train/\n",
    "│   │   ├── african_elephant (780 images)\n",
    "│   │   ├── airliner (780 images)\n",
    "│   │   └── ... (8 more folders)\n",
    "│   ├── val/\n",
    "│   │   ├── african_elephant (260 images)\n",
    "│   │   ├── airliner (260 images)\n",
    "│   │   └── ... (8 more folders)\n",
    "│   └── test (2600 images)\n",
    "├── data_preprocessed/\n",
    "│   ├── labels_train.pt\n",
    "│   ├── labels_val.pt\n",
    "│   ├── tensor_test.pt\n",
    "│   ├── tensor_train.pt\n",
    "│   └── tensor_val.pt\n",
    "├── models/\n",
    "│   ├── resnet18_checkpoint.pkl\n",
    "│   └── resnet34_checkpoint.pkl\n",
    "├── src/\n",
    "│   └── part3.ipynb\n",
    "├── src_datasplit/\n",
    "│   └── data_split.ipynb\n",
    "├── MSA.yaml\n",
    "├── README.md\n",
    "└── IEEE_Report_Template.docx\n",
    "```\n"
   ]
  },
  {
   "cell_type": "code",
   "execution_count": 75,
   "id": "071cc2eb",
   "metadata": {},
   "outputs": [
    {
     "name": "stderr",
     "output_type": "stream",
     "text": [
      "Python(38740) MallocStackLogging: can't turn off malloc stack logging because it was not enabled.\n"
     ]
    },
    {
     "name": "stdout",
     "output_type": "stream",
     "text": [
      "Requirement already satisfied: tqdm in /Users/sunshuo/Desktop/MSA/MSA_Phase2_2025/venv/lib/python3.10/site-packages (4.67.1)\n",
      "Requirement already satisfied: matplotlib in /Users/sunshuo/Desktop/MSA/MSA_Phase2_2025/venv/lib/python3.10/site-packages (3.10.3)\n",
      "Requirement already satisfied: pandas in /Users/sunshuo/Desktop/MSA/MSA_Phase2_2025/venv/lib/python3.10/site-packages (2.3.1)\n",
      "Requirement already satisfied: opencv-python in /Users/sunshuo/Desktop/MSA/MSA_Phase2_2025/venv/lib/python3.10/site-packages (4.12.0.88)\n",
      "Requirement already satisfied: scikit-learn in /Users/sunshuo/Desktop/MSA/MSA_Phase2_2025/venv/lib/python3.10/site-packages (1.6.1)\n",
      "Requirement already satisfied: numpy in /Users/sunshuo/Desktop/MSA/MSA_Phase2_2025/venv/lib/python3.10/site-packages (2.2.6)\n",
      "Requirement already satisfied: contourpy>=1.0.1 in /Users/sunshuo/Desktop/MSA/MSA_Phase2_2025/venv/lib/python3.10/site-packages (from matplotlib) (1.3.2)\n",
      "Requirement already satisfied: cycler>=0.10 in /Users/sunshuo/Desktop/MSA/MSA_Phase2_2025/venv/lib/python3.10/site-packages (from matplotlib) (0.12.1)\n",
      "Requirement already satisfied: fonttools>=4.22.0 in /Users/sunshuo/Desktop/MSA/MSA_Phase2_2025/venv/lib/python3.10/site-packages (from matplotlib) (4.58.5)\n",
      "Requirement already satisfied: kiwisolver>=1.3.1 in /Users/sunshuo/Desktop/MSA/MSA_Phase2_2025/venv/lib/python3.10/site-packages (from matplotlib) (1.4.8)\n",
      "Requirement already satisfied: packaging>=20.0 in /Users/sunshuo/Desktop/MSA/MSA_Phase2_2025/venv/lib/python3.10/site-packages (from matplotlib) (25.0)\n",
      "Requirement already satisfied: pillow>=8 in /Users/sunshuo/Desktop/MSA/MSA_Phase2_2025/venv/lib/python3.10/site-packages (from matplotlib) (11.3.0)\n",
      "Requirement already satisfied: pyparsing>=2.3.1 in /Users/sunshuo/Desktop/MSA/MSA_Phase2_2025/venv/lib/python3.10/site-packages (from matplotlib) (3.2.3)\n",
      "Requirement already satisfied: python-dateutil>=2.7 in /Users/sunshuo/Desktop/MSA/MSA_Phase2_2025/venv/lib/python3.10/site-packages (from matplotlib) (2.9.0.post0)\n",
      "Requirement already satisfied: pytz>=2020.1 in /Users/sunshuo/Desktop/MSA/MSA_Phase2_2025/venv/lib/python3.10/site-packages (from pandas) (2025.2)\n",
      "Requirement already satisfied: tzdata>=2022.7 in /Users/sunshuo/Desktop/MSA/MSA_Phase2_2025/venv/lib/python3.10/site-packages (from pandas) (2025.2)\n",
      "Requirement already satisfied: scipy>=1.6.0 in /Users/sunshuo/Desktop/MSA/MSA_Phase2_2025/venv/lib/python3.10/site-packages (from scikit-learn) (1.15.3)\n",
      "Requirement already satisfied: joblib>=1.2.0 in /Users/sunshuo/Desktop/MSA/MSA_Phase2_2025/venv/lib/python3.10/site-packages (from scikit-learn) (1.5.1)\n",
      "Requirement already satisfied: threadpoolctl>=3.1.0 in /Users/sunshuo/Desktop/MSA/MSA_Phase2_2025/venv/lib/python3.10/site-packages (from scikit-learn) (3.6.0)\n",
      "Requirement already satisfied: six>=1.5 in /Users/sunshuo/Desktop/MSA/MSA_Phase2_2025/venv/lib/python3.10/site-packages (from python-dateutil>=2.7->matplotlib) (1.17.0)\n",
      "Note: you may need to restart the kernel to use updated packages.\n"
     ]
    }
   ],
   "source": [
    "pip install tqdm matplotlib pandas opencv-python scikit-learn numpy"
   ]
  },
  {
   "cell_type": "code",
   "execution_count": 76,
   "id": "f5c27c37",
   "metadata": {},
   "outputs": [
    {
     "name": "stderr",
     "output_type": "stream",
     "text": [
      "Python(38746) MallocStackLogging: can't turn off malloc stack logging because it was not enabled.\n"
     ]
    },
    {
     "name": "stdout",
     "output_type": "stream",
     "text": [
      "Requirement already satisfied: torch in /Users/sunshuo/Desktop/MSA/MSA_Phase2_2025/venv/lib/python3.10/site-packages (2.7.1)\n",
      "Requirement already satisfied: torchvision in /Users/sunshuo/Desktop/MSA/MSA_Phase2_2025/venv/lib/python3.10/site-packages (0.22.1)\n",
      "Requirement already satisfied: filelock in /Users/sunshuo/Desktop/MSA/MSA_Phase2_2025/venv/lib/python3.10/site-packages (from torch) (3.18.0)\n",
      "Requirement already satisfied: typing-extensions>=4.10.0 in /Users/sunshuo/Desktop/MSA/MSA_Phase2_2025/venv/lib/python3.10/site-packages (from torch) (4.14.1)\n",
      "Requirement already satisfied: sympy>=1.13.3 in /Users/sunshuo/Desktop/MSA/MSA_Phase2_2025/venv/lib/python3.10/site-packages (from torch) (1.14.0)\n",
      "Requirement already satisfied: networkx in /Users/sunshuo/Desktop/MSA/MSA_Phase2_2025/venv/lib/python3.10/site-packages (from torch) (3.4.2)\n",
      "Requirement already satisfied: jinja2 in /Users/sunshuo/Desktop/MSA/MSA_Phase2_2025/venv/lib/python3.10/site-packages (from torch) (3.1.6)\n",
      "Requirement already satisfied: fsspec in /Users/sunshuo/Desktop/MSA/MSA_Phase2_2025/venv/lib/python3.10/site-packages (from torch) (2025.5.1)\n",
      "Requirement already satisfied: numpy in /Users/sunshuo/Desktop/MSA/MSA_Phase2_2025/venv/lib/python3.10/site-packages (from torchvision) (2.2.6)\n",
      "Requirement already satisfied: pillow!=8.3.*,>=5.3.0 in /Users/sunshuo/Desktop/MSA/MSA_Phase2_2025/venv/lib/python3.10/site-packages (from torchvision) (11.3.0)\n",
      "Requirement already satisfied: mpmath<1.4,>=1.1.0 in /Users/sunshuo/Desktop/MSA/MSA_Phase2_2025/venv/lib/python3.10/site-packages (from sympy>=1.13.3->torch) (1.3.0)\n",
      "Requirement already satisfied: MarkupSafe>=2.0 in /Users/sunshuo/Desktop/MSA/MSA_Phase2_2025/venv/lib/python3.10/site-packages (from jinja2->torch) (3.0.2)\n",
      "Note: you may need to restart the kernel to use updated packages.\n"
     ]
    }
   ],
   "source": [
    "pip install torch torchvision"
   ]
  },
  {
   "cell_type": "code",
   "execution_count": 77,
   "id": "e2cd4208",
   "metadata": {},
   "outputs": [],
   "source": [
    "# TODO: Import the libraries.\n",
    "from typing import Tuple, List\n",
    "import os\n",
    "import cv2\n",
    "from tqdm import tqdm\n",
    "import numpy as np\n",
    "import torch\n",
    "import torchvision\n",
    "import torch.nn as nn\n",
    "import torch.nn.functional as F\n",
    "from collections import OrderedDict\n",
    "import copy\n",
    "import matplotlib.pyplot as plt\n",
    "import csv\n",
    "import torchvision.models as models\n",
    "import torch.optim as optim\n",
    "from torch.utils.data import TensorDataset, DataLoader\n",
    "import pandas as pd\n",
    "import re"
   ]
  },
  {
   "cell_type": "markdown",
   "id": "129404feccd45358",
   "metadata": {
    "collapsed": false
   },
   "source": [
    "## Step 1 Preprocessing\n",
    "1. Load images and labels from folders into lists.\n",
    "2. Resize the images.\n",
    "3. Convert the image data type as float32 and limit the range in [0, 1].\n",
    "4. Convert data from NHWC to NCHW and creat a PyTorch tensor from it.\n",
    "5. Per-channel standardization of the dataset using training set statistics (mean and std computed independently for each color channel).\n",
    "6. Saving the pre-processed sets as .pt files in the correct directory.\n",
    "7. Load the pre-processed sets from .pt files. "
   ]
  },
  {
   "cell_type": "code",
   "execution_count": 78,
   "id": "initial_id",
   "metadata": {
    "ExecuteTime": {
     "end_time": "2025-05-10T03:38:13.117713Z",
     "start_time": "2025-05-10T03:38:13.110009Z"
    },
    "collapsed": true
   },
   "outputs": [],
   "source": [
    "def image_loader(set_dir: str) -> Tuple[List[np.ndarray], List[str]]:\n",
    "    images = []\n",
    "    labels = []\n",
    "    is_test = all(os.path.isfile(os.path.join(set_dir, f)) for f in os.listdir(set_dir))\n",
    "\n",
    "    if is_test:\n",
    "        filenames = [f for f in os.listdir(set_dir) if f.lower().endswith((\".jpg\", \".jpeg\", \".png\"))]\n",
    "        filenames = sorted(filenames, key=lambda x: int(re.findall(r'\\d+', x)[0]) if re.findall(r'\\d+', x) else float('inf'))\n",
    "        for fname in filenames:\n",
    "            img_path = os.path.join(set_dir, fname)\n",
    "            img = cv2.imread(img_path)\n",
    "            if img is not None:\n",
    "                images.append(img)\n",
    "        labels = []\n",
    "    else:\n",
    "        for class_name in sorted(os.listdir(set_dir)):\n",
    "            class_dir = os.path.join(set_dir, class_name)\n",
    "            if os.path.isdir(class_dir):\n",
    "                for fname in sorted(os.listdir(class_dir)):\n",
    "                    if fname.lower().endswith((\".jpg\", \".jpeg\", \".png\")):\n",
    "                        img_path = os.path.join(class_dir, fname)\n",
    "                        img = cv2.imread(img_path)\n",
    "                        if img is not None:\n",
    "                            images.append(img)\n",
    "                            labels.append(class_name)\n",
    "    return images, labels\n"
   ]
  },
  {
   "cell_type": "code",
   "execution_count": 79,
   "id": "e9151a560c344fe2",
   "metadata": {
    "ExecuteTime": {
     "end_time": "2025-05-10T03:38:13.472357Z",
     "start_time": "2025-05-10T03:38:13.460924Z"
    },
    "collapsed": false
   },
   "outputs": [],
   "source": [
    "def img_resize(images: List[np.ndarray], target_size: int = 224) -> np.ndarray:\n",
    "    if not images:\n",
    "        return np.array([])\n",
    "\n",
    "    processed_images = []\n",
    "\n",
    "    for img in images:\n",
    "        if img is None or len(img.shape) != 3 or img.shape[2] not in [3, 4]:\n",
    "            raise ValueError(\"Invalid image shape or number of channels\")\n",
    "\n",
    "        h, w = img.shape[:2]\n",
    "        scale = target_size / min(h, w)\n",
    "        new_w, new_h = int(w * scale), int(h * scale)\n",
    "        resized = cv2.resize(img, (new_w, new_h), interpolation=cv2.INTER_AREA)\n",
    "\n",
    "        # Padding if needed\n",
    "        pad_h = max(target_size - new_h, 0)\n",
    "        pad_w = max(target_size - new_w, 0)\n",
    "        if pad_h > 0 or pad_w > 0:\n",
    "            top = pad_h // 2\n",
    "            bottom = pad_h - top\n",
    "            left = pad_w // 2\n",
    "            right = pad_w - left\n",
    "            resized = cv2.copyMakeBorder(resized, top, bottom, left, right, cv2.BORDER_CONSTANT, value=[0,0,0])\n",
    "            new_h, new_w = resized.shape[:2]\n",
    "\n",
    "        # Center crop\n",
    "        start_x = (new_w - target_size) // 2\n",
    "        start_y = (new_h - target_size) // 2\n",
    "        cropped = resized[start_y:start_y + target_size, start_x:start_x + target_size]\n",
    "\n",
    "        if cropped.shape != (target_size, target_size, 3):\n",
    "            raise ValueError(f\"Image has invalid shape after crop: {cropped.shape}\")\n",
    "\n",
    "        processed_images.append(cropped)\n",
    "\n",
    "    return np.stack(processed_images)\n"
   ]
  },
  {
   "cell_type": "code",
   "execution_count": 80,
   "id": "bd1862b268144556",
   "metadata": {
    "ExecuteTime": {
     "end_time": "2025-05-10T03:38:39.249145Z",
     "start_time": "2025-05-10T03:38:14.305937Z"
    },
    "collapsed": false
   },
   "outputs": [],
   "source": [
    "# Load images\n",
    "\n",
    "images_train, labels_train = image_loader('../dataset_split/train')\n",
    "images_val, labels_val = image_loader('../dataset_split/val')\n",
    "images_test, _= image_loader('../dataset_split/test')"
   ]
  },
  {
   "cell_type": "code",
   "execution_count": 81,
   "id": "1975435fea13d751",
   "metadata": {
    "ExecuteTime": {
     "end_time": "2025-05-10T03:39:17.095684Z",
     "start_time": "2025-05-10T03:38:57.883480Z"
    },
    "collapsed": false
   },
   "outputs": [],
   "source": [
    "# Resize the images\n",
    "\n",
    "images_train = img_resize(images_train, 224)\n",
    "images_val = img_resize(images_val, 224)\n",
    "images_test = img_resize(images_test, 224)"
   ]
  },
  {
   "cell_type": "code",
   "execution_count": 82,
   "id": "bd71fcddecfefdbf",
   "metadata": {
    "ExecuteTime": {
     "end_time": "2025-05-10T03:39:20.788788Z",
     "start_time": "2025-05-10T03:39:17.097418Z"
    },
    "collapsed": false
   },
   "outputs": [],
   "source": [
    "\n",
    "# TODO: 3. Convert the image data type as float32 and limit the range in [0, 1].\n",
    "\n",
    "images_train = images_train.astype(np.float32) / 255.0\n",
    "images_val = images_val.astype(np.float32) / 255.0\n",
    "images_test = images_test.astype(np.float32) / 255.0"
   ]
  },
  {
   "cell_type": "code",
   "execution_count": 83,
   "id": "1938cec6018a8176",
   "metadata": {
    "ExecuteTime": {
     "end_time": "2025-05-10T03:39:21.156559Z",
     "start_time": "2025-05-10T03:39:20.789492Z"
    },
    "collapsed": false
   },
   "outputs": [],
   "source": [
    "\n",
    "# TODO: 4. Convert data from NHWC to NCHW and creat a PyTorch tensor from it.\n",
    "\n",
    "tensor_train = torch.tensor(images_train.transpose(0, 3, 1, 2), dtype=torch.float32)\n",
    "tensor_val = torch.tensor(images_val.transpose(0, 3, 1, 2), dtype=torch.float32)\n",
    "tensor_test = torch.tensor(images_test.transpose(0, 3, 1, 2), dtype=torch.float32)"
   ]
  },
  {
   "cell_type": "code",
   "execution_count": 84,
   "id": "d584e1b61e015747",
   "metadata": {
    "ExecuteTime": {
     "end_time": "2025-05-10T03:39:32.523629Z",
     "start_time": "2025-05-10T03:39:21.158863Z"
    },
    "collapsed": false
   },
   "outputs": [],
   "source": [
    "\n",
    "# TODO: 5. Per-channel standardization of the dataset using training set statistics (mean and std computed independently for each color channel).\n",
    "train_mean = tensor_train.mean(dim=(0, 2, 3))\n",
    "train_std = tensor_train.std(dim=(0, 2, 3))\n",
    "\n",
    "tensor_train = (tensor_train - train_mean[None, :, None, None]) / train_std[None, :, None, None]\n",
    "tensor_val = (tensor_val - train_mean[None, :, None, None]) / train_std[None, :, None, None]\n",
    "tensor_test = (tensor_test - train_mean[None, :, None, None]) / train_std[None, :, None, None]"
   ]
  },
  {
   "cell_type": "code",
   "execution_count": 85,
   "id": "9f7a684ba9e6561c",
   "metadata": {
    "ExecuteTime": {
     "end_time": "2025-05-10T03:39:41.944582Z",
     "start_time": "2025-05-10T03:39:32.524747Z"
    },
    "collapsed": false
   },
   "outputs": [],
   "source": [
    "# TODO: 6. Save the pre-processed sets as .pt files.\n",
    "os.makedirs(\"../data_preprocessed\", exist_ok=True)\n",
    "\n",
    "# 6.1 Save the tensor_train, tensor_val, and tensor_test as tensor_train.pt, tensor_val.pt, and tensor_test.pt, respectively.\n",
    "torch.save(tensor_train, \"../data_preprocessed/tensor_train.pt\")\n",
    "torch.save(tensor_val, \"../data_preprocessed/tensor_val.pt\")\n",
    "torch.save(tensor_test, \"../data_preprocessed/tensor_test.pt\")\n",
    "# 6.2 Create a list to map index to label and a dictionary to map label to index.\n",
    "#   For instance:\n",
    "#       unique_labels = ['african_elephant', 'airliner', ...]\n",
    "#       label_to_index = {\n",
    "#           'african_elephant': 0,\n",
    "#           'airliner': 1,\n",
    "#           ...\n",
    "#       }\n",
    "\n",
    "unique_labels = sorted(set(labels_train))\n",
    "\n",
    "label_to_index = {label: idx for idx, label in enumerate(unique_labels)}\n",
    "index_to_label = {idx: label for label, idx in label_to_index.items()}\n",
    "\n",
    "# 6.3 Map the labels to index.\n",
    "labels_train_index = torch.tensor([label_to_index[label] for label in labels_train], dtype=torch.long)\n",
    "labels_val_index = torch.tensor([label_to_index[label] for label in labels_val], dtype=torch.long)\n",
    "\n",
    "\n",
    "\n",
    "# 6.4 Save the index, label_to_index, and index_to_label.\n",
    "torch.save(labels_train_index, \"../data_preprocessed/labels_train.pt\")\n",
    "torch.save(labels_val_index, \"../data_preprocessed/labels_val.pt\")\n",
    "torch.save(label_to_index, \"../data_preprocessed/label_to_index.pt\")\n",
    "torch.save(index_to_label, \"../data_preprocessed/index_to_label.pt\")\n"
   ]
  },
  {
   "cell_type": "code",
   "execution_count": 86,
   "id": "a3a5a646027a826",
   "metadata": {
    "ExecuteTime": {
     "end_time": "2025-05-10T03:39:45.192760Z",
     "start_time": "2025-05-10T03:39:41.946771Z"
    },
    "collapsed": false
   },
   "outputs": [
    {
     "name": "stdout",
     "output_type": "stream",
     "text": [
      "Train tensor: torch.Size([7800, 3, 224, 224])\n",
      "Val tensor: torch.Size([2600, 3, 224, 224])\n",
      "Test tensor: torch.Size([2600, 3, 224, 224])\n",
      "Train labels: torch.Size([7800])\n",
      "Val labels: torch.Size([2600])\n",
      "Number of classes: 10\n"
     ]
    }
   ],
   "source": [
    "# TODO: 7. Load the pre-processed sets from .pt files. The data can be used directly in future without pre-processing once more by loading from the folder.\n",
    "\n",
    "tensor_train = torch.load(\"../data_preprocessed/tensor_train.pt\")\n",
    "tensor_val = torch.load(\"../data_preprocessed/tensor_val.pt\")\n",
    "tensor_test = torch.load(\"../data_preprocessed/tensor_test.pt\")\n",
    "\n",
    "labels_train_index = torch.load(\"../data_preprocessed/labels_train.pt\")\n",
    "labels_val_index = torch.load(\"../data_preprocessed/labels_val.pt\")\n",
    "\n",
    "print(\"Train tensor:\", tensor_train.shape)\n",
    "print(\"Val tensor:\", tensor_val.shape)\n",
    "print(\"Test tensor:\", tensor_test.shape)\n",
    "print(\"Train labels:\", labels_train_index.shape)\n",
    "print(\"Val labels:\", labels_val_index.shape)\n",
    "print(\"Number of classes:\", len(label_to_index))"
   ]
  },
  {
   "cell_type": "markdown",
   "id": "f5cb7cfa317410ff",
   "metadata": {
    "collapsed": false
   },
   "source": [
    "# Step 2 Train the teacher model (ResNet34)\n",
    "1. Set hyperparameters for the training process.\n",
    "2. Create a pretrained ResNet34.\n",
    "3. Define the optimizer, loss function, etc.\n",
    "4. Train ResNet34 and save the best-performing parameters to 'resnet34_checkpoint.pkl'.\n",
    "5. Plot the loss and accuracy curves."
   ]
  },
  {
   "cell_type": "code",
   "execution_count": 87,
   "id": "745979a1b12465eb",
   "metadata": {
    "ExecuteTime": {
     "end_time": "2025-05-10T01:43:51.705549Z",
     "start_time": "2025-05-10T01:43:51.663106Z"
    },
    "collapsed": false
   },
   "outputs": [
    {
     "name": "stdout",
     "output_type": "stream",
     "text": [
      "tensor(10)\n",
      "torch.Size([7800, 3, 224, 224])\n",
      "torch.Size([2600, 3, 224, 224])\n",
      "torch.Size([2600, 3, 224, 224])\n",
      "torch.Size([7800])\n",
      "torch.Size([2600])\n"
     ]
    }
   ],
   "source": [
    "\n",
    "# Verify data shapes\n",
    "\n",
    "num_classes = max(labels_train_index) + 1\n",
    "print(num_classes)\n",
    "print(tensor_train.shape)\n",
    "print(tensor_val.shape)\n",
    "print(tensor_test.shape)\n",
    "print(labels_train_index.shape)\n",
    "print(labels_val_index.shape)"
   ]
  },
  {
   "cell_type": "code",
   "execution_count": 88,
   "id": "507aa43e1a3701b5",
   "metadata": {
    "ExecuteTime": {
     "end_time": "2025-05-10T01:43:52.604546Z",
     "start_time": "2025-05-10T01:43:52.600245Z"
    },
    "collapsed": false
   },
   "outputs": [],
   "source": [
    "# TODO: 1. Set hyperparameters for the training process.\n",
    "MAX_EPOCH = 15\n",
    "INIT_LR = 0.001\n",
    "BATCH_SIZE = 64\n",
    "\n",
    "# Specify the training device (automatically detects GPU if available)\n",
    "# Device configuration\n",
    "if torch.backends.mps.is_available():\n",
    "    device = torch.device(\"mps\")\n",
    "elif torch.cuda.is_available():\n",
    "    device = torch.device(\"cuda\")\n",
    "else:\n",
    "    device = torch.device(\"cpu\")"
   ]
  },
  {
   "cell_type": "code",
   "execution_count": 89,
   "id": "c8b9bf9ed5ae5cf9",
   "metadata": {
    "ExecuteTime": {
     "end_time": "2025-05-10T01:43:55.541802Z",
     "start_time": "2025-05-10T01:43:55.291383Z"
    },
    "collapsed": false
   },
   "outputs": [
    {
     "name": "stdout",
     "output_type": "stream",
     "text": [
      "ResNet(\n",
      "  (conv1): Conv2d(3, 64, kernel_size=(7, 7), stride=(2, 2), padding=(3, 3), bias=False)\n",
      "  (bn1): BatchNorm2d(64, eps=1e-05, momentum=0.1, affine=True, track_running_stats=True)\n",
      "  (relu): ReLU(inplace=True)\n",
      "  (maxpool): MaxPool2d(kernel_size=3, stride=2, padding=1, dilation=1, ceil_mode=False)\n",
      "  (layer1): Sequential(\n",
      "    (0): BasicBlock(\n",
      "      (conv1): Conv2d(64, 64, kernel_size=(3, 3), stride=(1, 1), padding=(1, 1), bias=False)\n",
      "      (bn1): BatchNorm2d(64, eps=1e-05, momentum=0.1, affine=True, track_running_stats=True)\n",
      "      (relu): ReLU(inplace=True)\n",
      "      (conv2): Conv2d(64, 64, kernel_size=(3, 3), stride=(1, 1), padding=(1, 1), bias=False)\n",
      "      (bn2): BatchNorm2d(64, eps=1e-05, momentum=0.1, affine=True, track_running_stats=True)\n",
      "    )\n",
      "    (1): BasicBlock(\n",
      "      (conv1): Conv2d(64, 64, kernel_size=(3, 3), stride=(1, 1), padding=(1, 1), bias=False)\n",
      "      (bn1): BatchNorm2d(64, eps=1e-05, momentum=0.1, affine=True, track_running_stats=True)\n",
      "      (relu): ReLU(inplace=True)\n",
      "      (conv2): Conv2d(64, 64, kernel_size=(3, 3), stride=(1, 1), padding=(1, 1), bias=False)\n",
      "      (bn2): BatchNorm2d(64, eps=1e-05, momentum=0.1, affine=True, track_running_stats=True)\n",
      "    )\n",
      "    (2): BasicBlock(\n",
      "      (conv1): Conv2d(64, 64, kernel_size=(3, 3), stride=(1, 1), padding=(1, 1), bias=False)\n",
      "      (bn1): BatchNorm2d(64, eps=1e-05, momentum=0.1, affine=True, track_running_stats=True)\n",
      "      (relu): ReLU(inplace=True)\n",
      "      (conv2): Conv2d(64, 64, kernel_size=(3, 3), stride=(1, 1), padding=(1, 1), bias=False)\n",
      "      (bn2): BatchNorm2d(64, eps=1e-05, momentum=0.1, affine=True, track_running_stats=True)\n",
      "    )\n",
      "  )\n",
      "  (layer2): Sequential(\n",
      "    (0): BasicBlock(\n",
      "      (conv1): Conv2d(64, 128, kernel_size=(3, 3), stride=(2, 2), padding=(1, 1), bias=False)\n",
      "      (bn1): BatchNorm2d(128, eps=1e-05, momentum=0.1, affine=True, track_running_stats=True)\n",
      "      (relu): ReLU(inplace=True)\n",
      "      (conv2): Conv2d(128, 128, kernel_size=(3, 3), stride=(1, 1), padding=(1, 1), bias=False)\n",
      "      (bn2): BatchNorm2d(128, eps=1e-05, momentum=0.1, affine=True, track_running_stats=True)\n",
      "      (downsample): Sequential(\n",
      "        (0): Conv2d(64, 128, kernel_size=(1, 1), stride=(2, 2), bias=False)\n",
      "        (1): BatchNorm2d(128, eps=1e-05, momentum=0.1, affine=True, track_running_stats=True)\n",
      "      )\n",
      "    )\n",
      "    (1): BasicBlock(\n",
      "      (conv1): Conv2d(128, 128, kernel_size=(3, 3), stride=(1, 1), padding=(1, 1), bias=False)\n",
      "      (bn1): BatchNorm2d(128, eps=1e-05, momentum=0.1, affine=True, track_running_stats=True)\n",
      "      (relu): ReLU(inplace=True)\n",
      "      (conv2): Conv2d(128, 128, kernel_size=(3, 3), stride=(1, 1), padding=(1, 1), bias=False)\n",
      "      (bn2): BatchNorm2d(128, eps=1e-05, momentum=0.1, affine=True, track_running_stats=True)\n",
      "    )\n",
      "    (2): BasicBlock(\n",
      "      (conv1): Conv2d(128, 128, kernel_size=(3, 3), stride=(1, 1), padding=(1, 1), bias=False)\n",
      "      (bn1): BatchNorm2d(128, eps=1e-05, momentum=0.1, affine=True, track_running_stats=True)\n",
      "      (relu): ReLU(inplace=True)\n",
      "      (conv2): Conv2d(128, 128, kernel_size=(3, 3), stride=(1, 1), padding=(1, 1), bias=False)\n",
      "      (bn2): BatchNorm2d(128, eps=1e-05, momentum=0.1, affine=True, track_running_stats=True)\n",
      "    )\n",
      "    (3): BasicBlock(\n",
      "      (conv1): Conv2d(128, 128, kernel_size=(3, 3), stride=(1, 1), padding=(1, 1), bias=False)\n",
      "      (bn1): BatchNorm2d(128, eps=1e-05, momentum=0.1, affine=True, track_running_stats=True)\n",
      "      (relu): ReLU(inplace=True)\n",
      "      (conv2): Conv2d(128, 128, kernel_size=(3, 3), stride=(1, 1), padding=(1, 1), bias=False)\n",
      "      (bn2): BatchNorm2d(128, eps=1e-05, momentum=0.1, affine=True, track_running_stats=True)\n",
      "    )\n",
      "  )\n",
      "  (layer3): Sequential(\n",
      "    (0): BasicBlock(\n",
      "      (conv1): Conv2d(128, 256, kernel_size=(3, 3), stride=(2, 2), padding=(1, 1), bias=False)\n",
      "      (bn1): BatchNorm2d(256, eps=1e-05, momentum=0.1, affine=True, track_running_stats=True)\n",
      "      (relu): ReLU(inplace=True)\n",
      "      (conv2): Conv2d(256, 256, kernel_size=(3, 3), stride=(1, 1), padding=(1, 1), bias=False)\n",
      "      (bn2): BatchNorm2d(256, eps=1e-05, momentum=0.1, affine=True, track_running_stats=True)\n",
      "      (downsample): Sequential(\n",
      "        (0): Conv2d(128, 256, kernel_size=(1, 1), stride=(2, 2), bias=False)\n",
      "        (1): BatchNorm2d(256, eps=1e-05, momentum=0.1, affine=True, track_running_stats=True)\n",
      "      )\n",
      "    )\n",
      "    (1): BasicBlock(\n",
      "      (conv1): Conv2d(256, 256, kernel_size=(3, 3), stride=(1, 1), padding=(1, 1), bias=False)\n",
      "      (bn1): BatchNorm2d(256, eps=1e-05, momentum=0.1, affine=True, track_running_stats=True)\n",
      "      (relu): ReLU(inplace=True)\n",
      "      (conv2): Conv2d(256, 256, kernel_size=(3, 3), stride=(1, 1), padding=(1, 1), bias=False)\n",
      "      (bn2): BatchNorm2d(256, eps=1e-05, momentum=0.1, affine=True, track_running_stats=True)\n",
      "    )\n",
      "    (2): BasicBlock(\n",
      "      (conv1): Conv2d(256, 256, kernel_size=(3, 3), stride=(1, 1), padding=(1, 1), bias=False)\n",
      "      (bn1): BatchNorm2d(256, eps=1e-05, momentum=0.1, affine=True, track_running_stats=True)\n",
      "      (relu): ReLU(inplace=True)\n",
      "      (conv2): Conv2d(256, 256, kernel_size=(3, 3), stride=(1, 1), padding=(1, 1), bias=False)\n",
      "      (bn2): BatchNorm2d(256, eps=1e-05, momentum=0.1, affine=True, track_running_stats=True)\n",
      "    )\n",
      "    (3): BasicBlock(\n",
      "      (conv1): Conv2d(256, 256, kernel_size=(3, 3), stride=(1, 1), padding=(1, 1), bias=False)\n",
      "      (bn1): BatchNorm2d(256, eps=1e-05, momentum=0.1, affine=True, track_running_stats=True)\n",
      "      (relu): ReLU(inplace=True)\n",
      "      (conv2): Conv2d(256, 256, kernel_size=(3, 3), stride=(1, 1), padding=(1, 1), bias=False)\n",
      "      (bn2): BatchNorm2d(256, eps=1e-05, momentum=0.1, affine=True, track_running_stats=True)\n",
      "    )\n",
      "    (4): BasicBlock(\n",
      "      (conv1): Conv2d(256, 256, kernel_size=(3, 3), stride=(1, 1), padding=(1, 1), bias=False)\n",
      "      (bn1): BatchNorm2d(256, eps=1e-05, momentum=0.1, affine=True, track_running_stats=True)\n",
      "      (relu): ReLU(inplace=True)\n",
      "      (conv2): Conv2d(256, 256, kernel_size=(3, 3), stride=(1, 1), padding=(1, 1), bias=False)\n",
      "      (bn2): BatchNorm2d(256, eps=1e-05, momentum=0.1, affine=True, track_running_stats=True)\n",
      "    )\n",
      "    (5): BasicBlock(\n",
      "      (conv1): Conv2d(256, 256, kernel_size=(3, 3), stride=(1, 1), padding=(1, 1), bias=False)\n",
      "      (bn1): BatchNorm2d(256, eps=1e-05, momentum=0.1, affine=True, track_running_stats=True)\n",
      "      (relu): ReLU(inplace=True)\n",
      "      (conv2): Conv2d(256, 256, kernel_size=(3, 3), stride=(1, 1), padding=(1, 1), bias=False)\n",
      "      (bn2): BatchNorm2d(256, eps=1e-05, momentum=0.1, affine=True, track_running_stats=True)\n",
      "    )\n",
      "  )\n",
      "  (layer4): Sequential(\n",
      "    (0): BasicBlock(\n",
      "      (conv1): Conv2d(256, 512, kernel_size=(3, 3), stride=(2, 2), padding=(1, 1), bias=False)\n",
      "      (bn1): BatchNorm2d(512, eps=1e-05, momentum=0.1, affine=True, track_running_stats=True)\n",
      "      (relu): ReLU(inplace=True)\n",
      "      (conv2): Conv2d(512, 512, kernel_size=(3, 3), stride=(1, 1), padding=(1, 1), bias=False)\n",
      "      (bn2): BatchNorm2d(512, eps=1e-05, momentum=0.1, affine=True, track_running_stats=True)\n",
      "      (downsample): Sequential(\n",
      "        (0): Conv2d(256, 512, kernel_size=(1, 1), stride=(2, 2), bias=False)\n",
      "        (1): BatchNorm2d(512, eps=1e-05, momentum=0.1, affine=True, track_running_stats=True)\n",
      "      )\n",
      "    )\n",
      "    (1): BasicBlock(\n",
      "      (conv1): Conv2d(512, 512, kernel_size=(3, 3), stride=(1, 1), padding=(1, 1), bias=False)\n",
      "      (bn1): BatchNorm2d(512, eps=1e-05, momentum=0.1, affine=True, track_running_stats=True)\n",
      "      (relu): ReLU(inplace=True)\n",
      "      (conv2): Conv2d(512, 512, kernel_size=(3, 3), stride=(1, 1), padding=(1, 1), bias=False)\n",
      "      (bn2): BatchNorm2d(512, eps=1e-05, momentum=0.1, affine=True, track_running_stats=True)\n",
      "    )\n",
      "    (2): BasicBlock(\n",
      "      (conv1): Conv2d(512, 512, kernel_size=(3, 3), stride=(1, 1), padding=(1, 1), bias=False)\n",
      "      (bn1): BatchNorm2d(512, eps=1e-05, momentum=0.1, affine=True, track_running_stats=True)\n",
      "      (relu): ReLU(inplace=True)\n",
      "      (conv2): Conv2d(512, 512, kernel_size=(3, 3), stride=(1, 1), padding=(1, 1), bias=False)\n",
      "      (bn2): BatchNorm2d(512, eps=1e-05, momentum=0.1, affine=True, track_running_stats=True)\n",
      "    )\n",
      "  )\n",
      "  (avgpool): AdaptiveAvgPool2d(output_size=(1, 1))\n",
      "  (fc): Linear(in_features=512, out_features=10, bias=True)\n",
      ")\n"
     ]
    }
   ],
   "source": [
    "# TODO: 2. Create a pretrained ResNet34.\n",
    "num_classes = len(torch.unique(labels_train_index))\n",
    "# 2.1 Use torchvision to create a pretrained ResNet34.\n",
    "resnet34 = models.resnet34(weights=models.ResNet34_Weights.DEFAULT)\n",
    "\n",
    "# 2.2 Modify the output layer so that the model aligns with this project.\n",
    "resnet34.fc = nn.Linear(resnet34.fc.in_features, num_classes)\n",
    "# 2.2 Move the model to selected device.\n",
    "resnet34 = resnet34.to(device)\n",
    "\n",
    "print(resnet34)"
   ]
  },
  {
   "cell_type": "code",
   "execution_count": 90,
   "id": "70de5ac59beb12d",
   "metadata": {
    "ExecuteTime": {
     "end_time": "2025-05-10T01:43:56.555839Z",
     "start_time": "2025-05-10T01:43:56.542721Z"
    },
    "collapsed": false
   },
   "outputs": [],
   "source": [
    "# TODO: 3. Define the optimizer, loss function, etc.\n",
    "\n",
    "optimizer = optim.Adam(resnet34.parameters(), lr=INIT_LR)\n",
    "criterion = nn.CrossEntropyLoss()"
   ]
  },
  {
   "cell_type": "code",
   "execution_count": 91,
   "id": "65a797debcc531db",
   "metadata": {
    "collapsed": false
   },
   "outputs": [
    {
     "name": "stdout",
     "output_type": "stream",
     "text": [
      "Epoch 1/15 | Train Acc: 0.8277, Val Acc: 0.8458 | Train Loss: 0.5929, Val Loss: 0.4657\n",
      "Epoch 2/15 | Train Acc: 0.9012, Val Acc: 0.8735 | Train Loss: 0.3144, Val Loss: 0.4538\n",
      "Epoch 3/15 | Train Acc: 0.9185, Val Acc: 0.8327 | Train Loss: 0.2646, Val Loss: 0.6004\n",
      "Epoch 4/15 | Train Acc: 0.9388, Val Acc: 0.8727 | Train Loss: 0.1916, Val Loss: 0.4303\n",
      "Epoch 5/15 | Train Acc: 0.9521, Val Acc: 0.8838 | Train Loss: 0.1573, Val Loss: 0.3969\n",
      "Epoch 6/15 | Train Acc: 0.9592, Val Acc: 0.8777 | Train Loss: 0.1308, Val Loss: 0.4538\n",
      "Epoch 7/15 | Train Acc: 0.9659, Val Acc: 0.9023 | Train Loss: 0.1049, Val Loss: 0.3433\n",
      "Epoch 8/15 | Train Acc: 0.9787, Val Acc: 0.8969 | Train Loss: 0.0691, Val Loss: 0.3808\n",
      "Epoch 9/15 | Train Acc: 0.9805, Val Acc: 0.9015 | Train Loss: 0.0608, Val Loss: 0.3994\n",
      "Epoch 10/15 | Train Acc: 0.9815, Val Acc: 0.8854 | Train Loss: 0.0639, Val Loss: 0.4297\n",
      "Epoch 11/15 | Train Acc: 0.9724, Val Acc: 0.8812 | Train Loss: 0.0810, Val Loss: 0.4426\n",
      "Epoch 12/15 | Train Acc: 0.9715, Val Acc: 0.9042 | Train Loss: 0.0960, Val Loss: 0.3420\n",
      "Epoch 13/15 | Train Acc: 0.9822, Val Acc: 0.9127 | Train Loss: 0.0587, Val Loss: 0.3346\n",
      "Epoch 14/15 | Train Acc: 0.9895, Val Acc: 0.9200 | Train Loss: 0.0373, Val Loss: 0.3124\n",
      "Epoch 15/15 | Train Acc: 0.9874, Val Acc: 0.8665 | Train Loss: 0.0415, Val Loss: 0.5975\n"
     ]
    }
   ],
   "source": [
    "# TODO: 4. Train ResNet34 and save the best-performing parameters to 'resnet34_checkpoint.pkl'.\n",
    "# Hint: May not need too many epochs as this is a pretrained model.\n",
    "train_dataset = TensorDataset(tensor_train, labels_train_index)\n",
    "val_dataset = TensorDataset(tensor_val, labels_val_index)\n",
    "train_loader = DataLoader(train_dataset, batch_size=BATCH_SIZE, shuffle=True)\n",
    "val_loader = DataLoader(val_dataset, batch_size=BATCH_SIZE, shuffle=False)\n",
    "train_accs_resnet34, train_losses_resnet34 = [], []\n",
    "val_accs_resnet34, val_losses_resnet34 = [], []\n",
    "best_val_acc = 0.0\n",
    "\n",
    "for epoch in range(MAX_EPOCH):\n",
    "    # Training phase\n",
    "    resnet34.train()\n",
    "    running_train_loss = 0.0\n",
    "    correct = 0\n",
    "    total = 0\n",
    "    \n",
    "    for inputs, labels in train_loader:\n",
    "        inputs, labels = inputs.to(device), labels.to(device)\n",
    "        \n",
    "        optimizer.zero_grad()\n",
    "        outputs = resnet34(inputs)\n",
    "        loss = criterion(outputs, labels)\n",
    "        loss.backward()\n",
    "        optimizer.step()\n",
    "        \n",
    "        _, predicted = torch.max(outputs, 1)\n",
    "        running_train_loss += loss.item() * inputs.size(0)\n",
    "        total += labels.size(0)\n",
    "        correct += (predicted == labels).sum().item()\n",
    "    \n",
    "    # Calculate training accuracy and loss\n",
    "    train_acc = correct / total\n",
    "    train_loss = running_train_loss / total\n",
    "    train_losses_resnet34.append(train_loss)\n",
    "    train_accs_resnet34.append(train_acc)\n",
    "    \n",
    "    # Validation phase\n",
    "    resnet34.eval()\n",
    "    running_val_loss = 0.0\n",
    "    correct = 0\n",
    "    total = 0\n",
    "    \n",
    "    with torch.no_grad():\n",
    "        for inputs, labels in val_loader:\n",
    "            inputs, labels = inputs.to(device), labels.to(device)\n",
    "            outputs = resnet34(inputs)\n",
    "            loss = criterion(outputs, labels)\n",
    "            \n",
    "            running_val_loss += loss.item() * inputs.size(0)\n",
    "            _, predicted = torch.max(outputs, 1)\n",
    "            total += labels.size(0)\n",
    "            correct += (predicted == labels).sum().item()\n",
    "    \n",
    "    val_acc = correct / total\n",
    "    val_loss = running_val_loss / total\n",
    "    val_losses_resnet34.append(val_loss)\n",
    "    val_accs_resnet34.append(val_acc)\n",
    "\n",
    "    print(f\"Epoch {epoch+1}/{MAX_EPOCH} | \"\n",
    "          f\"Train Acc: {train_acc:.4f}, Val Acc: {val_acc:.4f} | \"\n",
    "          f\"Train Loss: {train_loss:.4f}, Val Loss: {val_loss:.4f}\")\n",
    "\n",
    "    # Save the best model based on validation accuracy\n",
    "    if val_acc > best_val_acc:\n",
    "        best_val_acc = val_acc\n",
    "        os.makedirs(\"../models\", exist_ok=True)\n",
    "        torch.save(resnet34.state_dict(), \"../models/resnet34_checkpoint.pkl\")"
   ]
  },
  {
   "cell_type": "code",
   "execution_count": 92,
   "id": "bb5a3089891cf4a3",
   "metadata": {
    "collapsed": false
   },
   "outputs": [
    {
     "data": {
      "image/png": "[encoded data removed]",
      "text/plain": [
       "<Figure size 1200x500 with 2 Axes>"
      ]
     },
     "metadata": {},
     "output_type": "display_data"
    }
   ],
   "source": [
    "# TODO: 5. Plot the loss and accuracy curves.\n",
    "\n",
    "plt.figure(figsize=(12, 5))\n",
    "plt.subplot(1, 2, 1)\n",
    "plt.plot(train_losses_resnet34, label='Train Loss')\n",
    "plt.plot(val_losses_resnet34, label='Val Loss')\n",
    "plt.xlabel('Epoch')\n",
    "plt.ylabel('Loss')\n",
    "plt.title('Loss Curves')\n",
    "plt.legend()\n",
    "\n",
    "plt.subplot(1, 2, 2)\n",
    "plt.plot(train_accs_resnet34, label='Train Accuracy')\n",
    "plt.plot(val_accs_resnet34, label='Val Accuracy')\n",
    "plt.xlabel('Epoch')\n",
    "plt.ylabel('Accuracy')\n",
    "plt.title('Accuracy Curves')\n",
    "plt.legend()\n",
    "\n",
    "plt.tight_layout()\n",
    "plt.show()"
   ]
  },
  {
   "cell_type": "markdown",
   "id": "897fa4102b57deab",
   "metadata": {
    "collapsed": false
   },
   "source": [
    "# Step 3 Train the student model (ResNet18)\n",
    "1. Set hyperparameters for the distillation process.\n",
    "2. Create a NON-PRETRAINED ResNet18 and move the model to selected device.\n",
    "3. Load the saved ResNet34 and move the model to selected device.\n",
    "4. Define the optimizer, loss function, etc.\n",
    "5. Train ResNet18 and save the best-performing parameters to 'resnet18_checkpoint.pkl'.\n",
    "6. Plot the loss and accuracy curves."
   ]
  },
  {
   "cell_type": "code",
   "execution_count": 93,
   "id": "68482456ab9410f8",
   "metadata": {
    "ExecuteTime": {
     "end_time": "2025-05-10T01:57:38.370616Z",
     "start_time": "2025-05-10T01:57:38.341026Z"
    },
    "collapsed": false
   },
   "outputs": [
    {
     "name": "stdout",
     "output_type": "stream",
     "text": [
      "tensor(10)\n",
      "torch.Size([7800, 3, 224, 224])\n",
      "torch.Size([2600, 3, 224, 224])\n",
      "torch.Size([2600, 3, 224, 224])\n",
      "torch.Size([7800])\n",
      "torch.Size([2600])\n"
     ]
    }
   ],
   "source": [
    "# Verify data shapes\n",
    "\n",
    "num_classes = max(labels_train_index) + 1\n",
    "print(num_classes)\n",
    "print(tensor_train.shape)\n",
    "print(tensor_val.shape)\n",
    "print(tensor_test.shape)\n",
    "print(labels_train_index.shape)\n",
    "print(labels_val_index.shape)"
   ]
  },
  {
   "cell_type": "code",
   "execution_count": 94,
   "id": "36a405975e022459",
   "metadata": {
    "ExecuteTime": {
     "end_time": "2025-05-10T01:57:39.329470Z",
     "start_time": "2025-05-10T01:57:39.294551Z"
    },
    "collapsed": false
   },
   "outputs": [],
   "source": [
    "# TODO: 1. Set hyperparameters for the distillation process.\n",
    "\n",
    "MAX_EPOCH = 15\n",
    "INIT_LR = 0.001\n",
    "BATCH_SIZE = 64\n",
    "\n",
    "# Device configuration\n",
    "if torch.backends.mps.is_available():\n",
    "    device = torch.device(\"mps\")\n",
    "elif torch.cuda.is_available():\n",
    "    device = torch.device(\"cuda\")\n",
    "else:\n",
    "    device = torch.device(\"cpu\")\n",
    "\n",
    "TEMPERATURE = 4.0\n",
    "LOSS_RATIO = 0.7  # 0.7 * distillation + 0.3 * classification loss"
   ]
  },
  {
   "cell_type": "code",
   "execution_count": 95,
   "id": "e7d2325836c2cf7d",
   "metadata": {
    "ExecuteTime": {
     "end_time": "2025-05-10T01:57:43.030265Z",
     "start_time": "2025-05-10T01:57:42.861042Z"
    },
    "collapsed": false
   },
   "outputs": [],
   "source": [
    "# TODO: 2. Create a NON-PRETRAINED ResNet18 and move the model to selected device.\n",
    "num_classes = len(torch.unique(labels_train_index))\n",
    "resnet18 = models.resnet18(weights=None)  # Non-pretrained ResNet18\n",
    "resnet18.fc = nn.Linear(resnet18.fc.in_features, num_classes)\n",
    "resnet18 = resnet18.to(device)"
   ]
  },
  {
   "cell_type": "code",
   "execution_count": 96,
   "id": "b8092f5d5acce972",
   "metadata": {
    "collapsed": false
   },
   "outputs": [],
   "source": [
    "# TODO: 3. Load the saved ResNet34 and move the model to selected device.\n",
    "# Hint: Enable the evaluation mode to prevent updating the parameters.\n",
    "\n",
    "resnet34 = models.resnet34(weights=None)\n",
    "resnet34.fc = nn.Linear(resnet34.fc.in_features, num_classes)\n",
    "resnet34.load_state_dict(torch.load(\"../models/resnet34_checkpoint.pkl\", map_location=device))\n",
    "\n",
    "resnet34 = resnet34.to(device)\n",
    "resnet34.eval()  # Set to evaluation mode\n",
    "for param in resnet34.parameters():\n",
    "    param.requires_grad = False  # Freeze the parameters of ResNet34"
   ]
  },
  {
   "cell_type": "code",
   "execution_count": 97,
   "id": "f312a04da1e5ddf6",
   "metadata": {
    "ExecuteTime": {
     "end_time": "2025-05-10T01:57:49.170629Z",
     "start_time": "2025-05-10T01:57:49.152278Z"
    },
    "collapsed": false
   },
   "outputs": [],
   "source": [
    "# TODO: 4. Define the optimizer, loss function, etc.\n",
    "\n",
    "# Define DistillationLoss class\n",
    "class DistillationLoss(nn.Module):\n",
    "    def __init__(self, temperature=4.0, alpha=0.7):\n",
    "        super().__init__()\n",
    "        self.temperature = temperature\n",
    "        self.alpha = alpha\n",
    "        self.kl = nn.KLDivLoss(reduction='batchmean')\n",
    "        self.ce = nn.CrossEntropyLoss()\n",
    "\n",
    "    def forward(self, student_logits, teacher_logits, labels):\n",
    "        soft_loss = self.kl(\n",
    "            F.log_softmax(student_logits / self.temperature, dim=1),\n",
    "            F.softmax(teacher_logits / self.temperature, dim=1)\n",
    "        ) * (self.temperature ** 2)\n",
    "        hard_loss = self.ce(student_logits, labels)\n",
    "        return self.alpha * soft_loss + (1. - self.alpha) * hard_loss\n",
    "\n",
    "# Initialize loss, optimizer, scheduler\n",
    "criterion = DistillationLoss(temperature=TEMPERATURE, alpha=LOSS_RATIO)\n",
    "optimizer = optim.Adam(resnet18.parameters(), lr=INIT_LR)\n",
    "scheduler = optim.lr_scheduler.StepLR(optimizer, step_size=5, gamma=0.5)"
   ]
  },
  {
   "cell_type": "code",
   "execution_count": 98,
   "id": "3c17f3f9eb662cef",
   "metadata": {
    "collapsed": false
   },
   "outputs": [
    {
     "name": "stderr",
     "output_type": "stream",
     "text": [
      "                                                                                   \r"
     ]
    },
    {
     "name": "stdout",
     "output_type": "stream",
     "text": [
      "Epoch 1/15 | Train Acc: 0.4888, Val Acc: 0.5785 | Train Loss: 10.3893, Val Loss: 2.3076\n"
     ]
    },
    {
     "name": "stderr",
     "output_type": "stream",
     "text": [
      "                                                                                   \r"
     ]
    },
    {
     "name": "stdout",
     "output_type": "stream",
     "text": [
      "Epoch 2/15 | Train Acc: 0.6273, Val Acc: 0.5808 | Train Loss: 7.7916, Val Loss: 2.6400\n"
     ]
    },
    {
     "name": "stderr",
     "output_type": "stream",
     "text": [
      "                                                                                   \r"
     ]
    },
    {
     "name": "stdout",
     "output_type": "stream",
     "text": [
      "Epoch 3/15 | Train Acc: 0.6994, Val Acc: 0.6577 | Train Loss: 6.2617, Val Loss: 2.1930\n"
     ]
    },
    {
     "name": "stderr",
     "output_type": "stream",
     "text": [
      "                                                                                   \r"
     ]
    },
    {
     "name": "stdout",
     "output_type": "stream",
     "text": [
      "Epoch 4/15 | Train Acc: 0.7394, Val Acc: 0.6496 | Train Loss: 5.4352, Val Loss: 2.1664\n"
     ]
    },
    {
     "name": "stderr",
     "output_type": "stream",
     "text": [
      "                                                                                   \r"
     ]
    },
    {
     "name": "stdout",
     "output_type": "stream",
     "text": [
      "Epoch 5/15 | Train Acc: 0.7694, Val Acc: 0.7677 | Train Loss: 4.5795, Val Loss: 1.2566\n"
     ]
    },
    {
     "name": "stderr",
     "output_type": "stream",
     "text": [
      "                                                                                   \r"
     ]
    },
    {
     "name": "stdout",
     "output_type": "stream",
     "text": [
      "Epoch 6/15 | Train Acc: 0.8162, Val Acc: 0.8088 | Train Loss: 3.6325, Val Loss: 0.9265\n"
     ]
    },
    {
     "name": "stderr",
     "output_type": "stream",
     "text": [
      "                                                                                   \r"
     ]
    },
    {
     "name": "stdout",
     "output_type": "stream",
     "text": [
      "Epoch 7/15 | Train Acc: 0.8395, Val Acc: 0.8269 | Train Loss: 3.2357, Val Loss: 0.8246\n"
     ]
    },
    {
     "name": "stderr",
     "output_type": "stream",
     "text": [
      "                                                                                   \r"
     ]
    },
    {
     "name": "stdout",
     "output_type": "stream",
     "text": [
      "Epoch 8/15 | Train Acc: 0.8450, Val Acc: 0.8096 | Train Loss: 3.0359, Val Loss: 0.9170\n"
     ]
    },
    {
     "name": "stderr",
     "output_type": "stream",
     "text": [
      "                                                                                   \r"
     ]
    },
    {
     "name": "stdout",
     "output_type": "stream",
     "text": [
      "Epoch 9/15 | Train Acc: 0.8656, Val Acc: 0.7842 | Train Loss: 2.6972, Val Loss: 1.1148\n"
     ]
    },
    {
     "name": "stderr",
     "output_type": "stream",
     "text": [
      "                                                                                    \r"
     ]
    },
    {
     "name": "stdout",
     "output_type": "stream",
     "text": [
      "Epoch 10/15 | Train Acc: 0.8799, Val Acc: 0.7619 | Train Loss: 2.5043, Val Loss: 1.2672\n"
     ]
    },
    {
     "name": "stderr",
     "output_type": "stream",
     "text": [
      "                                                                                    \r"
     ]
    },
    {
     "name": "stdout",
     "output_type": "stream",
     "text": [
      "Epoch 11/15 | Train Acc: 0.9110, Val Acc: 0.8388 | Train Loss: 1.9212, Val Loss: 0.7781\n"
     ]
    },
    {
     "name": "stderr",
     "output_type": "stream",
     "text": [
      "                                                                                    \r"
     ]
    },
    {
     "name": "stdout",
     "output_type": "stream",
     "text": [
      "Epoch 12/15 | Train Acc: 0.9178, Val Acc: 0.8477 | Train Loss: 1.7577, Val Loss: 0.7538\n"
     ]
    },
    {
     "name": "stderr",
     "output_type": "stream",
     "text": [
      "                                                                                     \r"
     ]
    },
    {
     "name": "stdout",
     "output_type": "stream",
     "text": [
      "Epoch 13/15 | Train Acc: 0.9297, Val Acc: 0.8392 | Train Loss: 1.5675, Val Loss: 0.8531\n"
     ]
    },
    {
     "name": "stderr",
     "output_type": "stream",
     "text": [
      "                                                                                     \r"
     ]
    },
    {
     "name": "stdout",
     "output_type": "stream",
     "text": [
      "Epoch 14/15 | Train Acc: 0.9358, Val Acc: 0.8535 | Train Loss: 1.4335, Val Loss: 0.7107\n"
     ]
    },
    {
     "name": "stderr",
     "output_type": "stream",
     "text": [
      "                                                                                     "
     ]
    },
    {
     "name": "stdout",
     "output_type": "stream",
     "text": [
      "Epoch 15/15 | Train Acc: 0.9469, Val Acc: 0.8462 | Train Loss: 1.2965, Val Loss: 0.7541\n"
     ]
    },
    {
     "name": "stderr",
     "output_type": "stream",
     "text": [
      "\r"
     ]
    }
   ],
   "source": [
    "# TODO: 5. Train ResNet18 and save the best-performing parameters to 'resnet18_checkpoint.pkl'.\n",
    "# Hint: Use the correct loss function for knowledge distillation.\n",
    "#       Details can be fund in https://docs.pytorch.org/tutorials/beginner/knowledge_distillation_tutorial.html.\n",
    "\n",
    "train_loader = DataLoader(train_dataset, batch_size=BATCH_SIZE, shuffle=True, num_workers=0, pin_memory=False)\n",
    "val_loader = DataLoader(val_dataset, batch_size=BATCH_SIZE, shuffle=False, num_workers=0, pin_memory=False)\n",
    "\n",
    "# Initialize lists to store training and validation metrics\n",
    "train_accs_resnet18, train_losses_resnet18 = [], []\n",
    "val_accs_resnet18, val_losses_resnet18 = [], []\n",
    "\n",
    "best_val_acc = 0.0\n",
    "\n",
    "for epoch in range(MAX_EPOCH):\n",
    "    # Training phase\n",
    "    resnet18.train()\n",
    "    total_train_loss = 0.0\n",
    "    correct_train = 0\n",
    "    total_train = 0\n",
    "\n",
    "    train_bar = tqdm(train_loader, desc=f\"[Epoch {epoch+1}/{MAX_EPOCH}] Training\", leave=False)\n",
    "    for images, labels in train_bar:\n",
    "        images, labels = images.to(device), labels.to(device)\n",
    "\n",
    "        with torch.no_grad():\n",
    "            teacher_logits = resnet34(images)\n",
    "\n",
    "        student_logits = resnet18(images)\n",
    "        loss = criterion(student_logits, teacher_logits, labels)\n",
    "\n",
    "        optimizer.zero_grad()\n",
    "        loss.backward()\n",
    "        optimizer.step()\n",
    "\n",
    "        total_train_loss += loss.item()\n",
    "        correct_train += (student_logits.argmax(1) == labels).sum().item()\n",
    "        total_train += labels.size(0)\n",
    "\n",
    "        train_bar.set_postfix(loss=loss.item())\n",
    "\n",
    "    train_loss = total_train_loss / len(train_loader)\n",
    "    train_acc = correct_train / total_train\n",
    "    train_losses_resnet18.append(train_loss)\n",
    "    train_accs_resnet18.append(train_acc)\n",
    "\n",
    "    # Validation phase\n",
    "    resnet18.eval()\n",
    "    total_val_loss = 0.0\n",
    "    correct_val = 0\n",
    "    total_val = 0\n",
    "\n",
    "    val_bar = tqdm(val_loader, desc=f\"[Epoch {epoch+1}] Validation\", leave=False)\n",
    "    with torch.no_grad():\n",
    "        for images, labels in val_bar:\n",
    "            images, labels = images.to(device), labels.to(device)\n",
    "            outputs = resnet18(images)\n",
    "            loss = F.cross_entropy(outputs, labels)\n",
    "\n",
    "            total_val_loss += loss.item()\n",
    "            correct_val += (outputs.argmax(1) == labels).sum().item()\n",
    "            total_val += labels.size(0)\n",
    "\n",
    "            val_bar.set_postfix(loss=loss.item())\n",
    "\n",
    "    val_loss = total_val_loss / len(val_loader)\n",
    "    val_acc = correct_val / total_val\n",
    "    val_losses_resnet18.append(val_loss)\n",
    "    val_accs_resnet18.append(val_acc)\n",
    "\n",
    "    scheduler.step()\n",
    "\n",
    "    print(f\"Epoch {epoch+1}/{MAX_EPOCH} | \"\n",
    "          f\"Train Acc: {train_acc:.4f}, Val Acc: {val_acc:.4f} | \"\n",
    "          f\"Train Loss: {train_loss:.4f}, Val Loss: {val_loss:.4f}\")\n",
    "    \n",
    "    # Save the best model based on validation accuracy\n",
    "    if val_acc > best_val_acc:\n",
    "        best_val_acc = val_acc\n",
    "        os.makedirs(\"../models\", exist_ok=True)\n",
    "        torch.save(resnet18.state_dict(), \"../models/resnet18_checkpoint.pkl\")"
   ]
  },
  {
   "cell_type": "code",
   "execution_count": 99,
   "id": "260396b6b143a422",
   "metadata": {
    "ExecuteTime": {
     "end_time": "2025-05-10T03:04:33.157515Z",
     "start_time": "2025-05-10T03:04:32.960493Z"
    },
    "collapsed": false
   },
   "outputs": [
    {
     "data": {
      "image/png": "[encoded data removed]",
      "text/plain": [
       "<Figure size 1200x500 with 2 Axes>"
      ]
     },
     "metadata": {},
     "output_type": "display_data"
    }
   ],
   "source": [
    "# TODO: 6. Plot the loss and accuracy curves.\n",
    "plt.figure(figsize=(12, 5))\n",
    "plt.subplot(1, 2, 1)\n",
    "plt.plot(train_losses_resnet18, label='Train Loss')\n",
    "plt.plot(val_losses_resnet18, label='Val Loss') \n",
    "plt.xlabel('Epoch')\n",
    "plt.ylabel('Loss')\n",
    "plt.title('Loss Curves')\n",
    "plt.legend()    \n",
    "\n",
    "plt.subplot(1, 2, 2)\n",
    "plt.plot(train_accs_resnet18, label='Train Accuracy')\n",
    "plt.plot(val_accs_resnet18, label='Val Accuracy')\n",
    "plt.xlabel('Epoch')\n",
    "plt.ylabel('Accuracy')\n",
    "plt.title('Accuracy Curves')\n",
    "plt.legend()\n",
    "plt.tight_layout()\n",
    "plt.show()"
   ]
  },
  {
   "cell_type": "code",
   "execution_count": null,
   "id": "840c65d6",
   "metadata": {},
   "outputs": [],
   "source": []
  },
  {
   "cell_type": "markdown",
   "id": "730790a6c4e96912",
   "metadata": {
    "collapsed": false
   },
   "source": [
    "# Step 4 Predict labels in the testing set\n",
    "1. Load the saved ResNet18 and move it to the selected device.\n",
    "2. Do prediction using the images in the testing set.\n",
    "3. Write the results into the CSV file for submission."
   ]
  },
  {
   "cell_type": "code",
   "execution_count": 100,
   "id": "73e570d8",
   "metadata": {},
   "outputs": [
    {
     "data": {
      "text/plain": [
       "ResNet(\n",
       "  (conv1): Conv2d(3, 64, kernel_size=(7, 7), stride=(2, 2), padding=(3, 3), bias=False)\n",
       "  (bn1): BatchNorm2d(64, eps=1e-05, momentum=0.1, affine=True, track_running_stats=True)\n",
       "  (relu): ReLU(inplace=True)\n",
       "  (maxpool): MaxPool2d(kernel_size=3, stride=2, padding=1, dilation=1, ceil_mode=False)\n",
       "  (layer1): Sequential(\n",
       "    (0): BasicBlock(\n",
       "      (conv1): Conv2d(64, 64, kernel_size=(3, 3), stride=(1, 1), padding=(1, 1), bias=False)\n",
       "      (bn1): BatchNorm2d(64, eps=1e-05, momentum=0.1, affine=True, track_running_stats=True)\n",
       "      (relu): ReLU(inplace=True)\n",
       "      (conv2): Conv2d(64, 64, kernel_size=(3, 3), stride=(1, 1), padding=(1, 1), bias=False)\n",
       "      (bn2): BatchNorm2d(64, eps=1e-05, momentum=0.1, affine=True, track_running_stats=True)\n",
       "    )\n",
       "    (1): BasicBlock(\n",
       "      (conv1): Conv2d(64, 64, kernel_size=(3, 3), stride=(1, 1), padding=(1, 1), bias=False)\n",
       "      (bn1): BatchNorm2d(64, eps=1e-05, momentum=0.1, affine=True, track_running_stats=True)\n",
       "      (relu): ReLU(inplace=True)\n",
       "      (conv2): Conv2d(64, 64, kernel_size=(3, 3), stride=(1, 1), padding=(1, 1), bias=False)\n",
       "      (bn2): BatchNorm2d(64, eps=1e-05, momentum=0.1, affine=True, track_running_stats=True)\n",
       "    )\n",
       "  )\n",
       "  (layer2): Sequential(\n",
       "    (0): BasicBlock(\n",
       "      (conv1): Conv2d(64, 128, kernel_size=(3, 3), stride=(2, 2), padding=(1, 1), bias=False)\n",
       "      (bn1): BatchNorm2d(128, eps=1e-05, momentum=0.1, affine=True, track_running_stats=True)\n",
       "      (relu): ReLU(inplace=True)\n",
       "      (conv2): Conv2d(128, 128, kernel_size=(3, 3), stride=(1, 1), padding=(1, 1), bias=False)\n",
       "      (bn2): BatchNorm2d(128, eps=1e-05, momentum=0.1, affine=True, track_running_stats=True)\n",
       "      (downsample): Sequential(\n",
       "        (0): Conv2d(64, 128, kernel_size=(1, 1), stride=(2, 2), bias=False)\n",
       "        (1): BatchNorm2d(128, eps=1e-05, momentum=0.1, affine=True, track_running_stats=True)\n",
       "      )\n",
       "    )\n",
       "    (1): BasicBlock(\n",
       "      (conv1): Conv2d(128, 128, kernel_size=(3, 3), stride=(1, 1), padding=(1, 1), bias=False)\n",
       "      (bn1): BatchNorm2d(128, eps=1e-05, momentum=0.1, affine=True, track_running_stats=True)\n",
       "      (relu): ReLU(inplace=True)\n",
       "      (conv2): Conv2d(128, 128, kernel_size=(3, 3), stride=(1, 1), padding=(1, 1), bias=False)\n",
       "      (bn2): BatchNorm2d(128, eps=1e-05, momentum=0.1, affine=True, track_running_stats=True)\n",
       "    )\n",
       "  )\n",
       "  (layer3): Sequential(\n",
       "    (0): BasicBlock(\n",
       "      (conv1): Conv2d(128, 256, kernel_size=(3, 3), stride=(2, 2), padding=(1, 1), bias=False)\n",
       "      (bn1): BatchNorm2d(256, eps=1e-05, momentum=0.1, affine=True, track_running_stats=True)\n",
       "      (relu): ReLU(inplace=True)\n",
       "      (conv2): Conv2d(256, 256, kernel_size=(3, 3), stride=(1, 1), padding=(1, 1), bias=False)\n",
       "      (bn2): BatchNorm2d(256, eps=1e-05, momentum=0.1, affine=True, track_running_stats=True)\n",
       "      (downsample): Sequential(\n",
       "        (0): Conv2d(128, 256, kernel_size=(1, 1), stride=(2, 2), bias=False)\n",
       "        (1): BatchNorm2d(256, eps=1e-05, momentum=0.1, affine=True, track_running_stats=True)\n",
       "      )\n",
       "    )\n",
       "    (1): BasicBlock(\n",
       "      (conv1): Conv2d(256, 256, kernel_size=(3, 3), stride=(1, 1), padding=(1, 1), bias=False)\n",
       "      (bn1): BatchNorm2d(256, eps=1e-05, momentum=0.1, affine=True, track_running_stats=True)\n",
       "      (relu): ReLU(inplace=True)\n",
       "      (conv2): Conv2d(256, 256, kernel_size=(3, 3), stride=(1, 1), padding=(1, 1), bias=False)\n",
       "      (bn2): BatchNorm2d(256, eps=1e-05, momentum=0.1, affine=True, track_running_stats=True)\n",
       "    )\n",
       "  )\n",
       "  (layer4): Sequential(\n",
       "    (0): BasicBlock(\n",
       "      (conv1): Conv2d(256, 512, kernel_size=(3, 3), stride=(2, 2), padding=(1, 1), bias=False)\n",
       "      (bn1): BatchNorm2d(512, eps=1e-05, momentum=0.1, affine=True, track_running_stats=True)\n",
       "      (relu): ReLU(inplace=True)\n",
       "      (conv2): Conv2d(512, 512, kernel_size=(3, 3), stride=(1, 1), padding=(1, 1), bias=False)\n",
       "      (bn2): BatchNorm2d(512, eps=1e-05, momentum=0.1, affine=True, track_running_stats=True)\n",
       "      (downsample): Sequential(\n",
       "        (0): Conv2d(256, 512, kernel_size=(1, 1), stride=(2, 2), bias=False)\n",
       "        (1): BatchNorm2d(512, eps=1e-05, momentum=0.1, affine=True, track_running_stats=True)\n",
       "      )\n",
       "    )\n",
       "    (1): BasicBlock(\n",
       "      (conv1): Conv2d(512, 512, kernel_size=(3, 3), stride=(1, 1), padding=(1, 1), bias=False)\n",
       "      (bn1): BatchNorm2d(512, eps=1e-05, momentum=0.1, affine=True, track_running_stats=True)\n",
       "      (relu): ReLU(inplace=True)\n",
       "      (conv2): Conv2d(512, 512, kernel_size=(3, 3), stride=(1, 1), padding=(1, 1), bias=False)\n",
       "      (bn2): BatchNorm2d(512, eps=1e-05, momentum=0.1, affine=True, track_running_stats=True)\n",
       "    )\n",
       "  )\n",
       "  (avgpool): AdaptiveAvgPool2d(output_size=(1, 1))\n",
       "  (fc): Linear(in_features=512, out_features=10, bias=True)\n",
       ")"
      ]
     },
     "execution_count": 100,
     "metadata": {},
     "output_type": "execute_result"
    }
   ],
   "source": [
    "# TODO: 1. Load the saved ResNet18 and move it to the selected device.\n",
    "# Hint: Enable the evaluation mode to prevent updating the parameters.\n",
    "\n",
    "# Load saved ResNet18 model and move to device\n",
    "resnet18 = models.resnet18(weights=None)\n",
    "resnet18.fc = nn.Linear(resnet18.fc.in_features, len(index_to_label))\n",
    "resnet18.load_state_dict(torch.load(\"../models/resnet18_checkpoint.pkl\", map_location=device))\n",
    "resnet18 = resnet18.to(device)\n",
    "resnet18.eval()  # Set to evaluation mode\n"
   ]
  },
  {
   "cell_type": "code",
   "execution_count": 103,
   "id": "4842c128",
   "metadata": {},
   "outputs": [
    {
     "name": "stderr",
     "output_type": "stream",
     "text": [
      "Predicting: 100%|██████████| 2600/2600 [00:30<00:00, 86.56it/s] \n"
     ]
    }
   ],
   "source": [
    "# TODO: 2. Do prediction using the images in the testing set.\n",
    "predictions = []\n",
    "\n",
    "with torch.no_grad():\n",
    "    for image in tqdm(tensor_test, desc=\"Predicting\"):\n",
    "        image = image.unsqueeze(0).to(device)  # Add batch dimension\n",
    "        outputs = resnet18(image)\n",
    "        _, predicted = torch.max(outputs, 1)\n",
    "        predictions.append(predicted.item())"
   ]
  },
  {
   "cell_type": "code",
   "execution_count": 102,
   "id": "f2f38943",
   "metadata": {},
   "outputs": [],
   "source": [
    "# TODO: 3. Write the results into the CSV file for submission.\n",
    "# Load index_to_label dictionary\n",
    "index_to_label = torch.load(\"../data_preprocessed/index_to_label.pt\")\n",
    "\n",
    "# Write predictions to CSV\n",
    "import pandas as pd\n",
    "\n",
    "submission_data = {\n",
    "    \"file_name\": [f\"{i}.jpg\" for i in range(len(predictions))],\n",
    "    \"label\": [index_to_label[idx] for idx in predictions]\n",
    "}\n",
    "\n",
    "df = pd.DataFrame(submission_data)\n",
    "df.to_csv(\"submission.csv\", index=False)"
   ]
  }
 ],
 "metadata": {
  "kernelspec": {
   "display_name": "venv",
   "language": "python",
   "name": "python3"
  },
  "language_info": {
   "codemirror_mode": {
    "name": "ipython",
    "version": 3
   },
   "file_extension": ".py",
   "mimetype": "text/x-python",
   "name": "python",
   "nbconvert_exporter": "python",
   "pygments_lexer": "ipython3",
   "version": "3.10.4"
  }
 },
 "nbformat": 4,
 "nbformat_minor": 5
}
